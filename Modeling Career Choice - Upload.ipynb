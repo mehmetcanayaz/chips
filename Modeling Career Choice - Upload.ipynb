{
 "cells": [
  {
   "cell_type": "code",
   "execution_count": 3,
   "id": "60909cfc-548c-4431-bc50-1b8344b532e0",
   "metadata": {},
   "outputs": [
    {
     "name": "stdout",
     "output_type": "stream",
     "text": [
      "Collecting quantecon\n",
      "  Downloading quantecon-0.7.1-py3-none-any.whl (214 kB)\n",
      "\u001b[K     |████████████████████████████████| 214 kB 2.1 MB/s eta 0:00:01\n",
      "\u001b[?25hRequirement already satisfied: numba>=0.49.0 in /opt/anaconda3/lib/python3.9/site-packages (from quantecon) (0.54.1)\n",
      "Requirement already satisfied: sympy in /opt/anaconda3/lib/python3.9/site-packages (from quantecon) (1.9)\n",
      "Requirement already satisfied: requests in /opt/anaconda3/lib/python3.9/site-packages (from quantecon) (2.10.0)\n",
      "Requirement already satisfied: numpy>=1.17.0 in /opt/anaconda3/lib/python3.9/site-packages (from quantecon) (1.20.3)\n",
      "Requirement already satisfied: scipy>=1.5.0 in /opt/anaconda3/lib/python3.9/site-packages (from quantecon) (1.7.1)\n",
      "Requirement already satisfied: setuptools in /opt/anaconda3/lib/python3.9/site-packages (from numba>=0.49.0->quantecon) (58.0.4)\n",
      "Requirement already satisfied: llvmlite<0.38,>=0.37.0rc1 in /opt/anaconda3/lib/python3.9/site-packages (from numba>=0.49.0->quantecon) (0.37.0)\n",
      "Requirement already satisfied: mpmath>=0.19 in /opt/anaconda3/lib/python3.9/site-packages (from sympy->quantecon) (1.2.1)\n",
      "Installing collected packages: quantecon\n",
      "Successfully installed quantecon-0.7.1\n"
     ]
    }
   ],
   "source": [
    "!pip install quantecon"
   ]
  },
  {
   "cell_type": "code",
   "execution_count": 3,
   "id": "c17ea3d4-b2be-4d65-8d06-6fc3b0b5afe2",
   "metadata": {},
   "outputs": [
    {
     "name": "stderr",
     "output_type": "stream",
     "text": [
      "OMP: Info #271: omp_set_nested routine deprecated, please use omp_set_max_active_levels instead.\n"
     ]
    }
   ],
   "source": [
    "import matplotlib.pyplot as plt\n",
    "plt.rcParams[\"figure.figsize\"] = (11, 5)  #set default figure size\n",
    "import numpy as np\n",
    "import quantecon as qe\n",
    "from numba import njit, prange\n",
    "from quantecon.distributions import BetaBinomial\n",
    "from scipy.special import binom, beta\n",
    "from mpl_toolkits.mplot3d.axes3d import Axes3D\n",
    "from matplotlib import cm"
   ]
  },
  {
   "cell_type": "code",
   "execution_count": 4,
   "id": "7380b151-fab3-4fa3-b07c-ed1ce4ea3843",
   "metadata": {},
   "outputs": [
    {
     "data": {
      "image/png": "[encoded data removed]",
      "text/plain": [
       "<Figure size 720x432 with 1 Axes>"
      ]
     },
     "metadata": {
      "needs_background": "light"
     },
     "output_type": "display_data"
    }
   ],
   "source": [
    "import numpy as np\n",
    "import matplotlib.pyplot as plt\n",
    "from scipy.stats import beta\n",
    "\n",
    "def gen_probs(n, a, b):\n",
    "    x = np.linspace(0, 1, n+1)\n",
    "    probs = beta.pdf(x, a, b)\n",
    "    return x, probs\n",
    "\n",
    "n = 100  # Use a finer resolution for smoother curves\n",
    "a_vals = [0.5, 10]\n",
    "b_vals = [0.5, 10]\n",
    "fig, ax = plt.subplots(figsize=(10, 6))\n",
    "\n",
    "colors = ['red', 'green']  # Define colors for each scenario\n",
    "labels = ['High Uncertainty Scenario', 'Low Uncertainty Scenario']  # Labels for each scenario\n",
    "\n",
    "for (a, b), color, label in zip(zip(a_vals, b_vals), colors, labels):\n",
    "    x, probs = gen_probs(n, a, b)\n",
    "    # Use label for scenario description instead of a and b values\n",
    "    ax.bar(x, probs, width=x[1]-x[0], label=label, color=color, alpha=0.5)\n",
    "\n",
    "ax.set_xlabel('x')\n",
    "ax.set_ylabel('Probability density')\n",
    "ax.legend()\n",
    "plt.show()\n"
   ]
  },
  {
   "cell_type": "code",
   "execution_count": 5,
   "id": "c7ca4d03-a71a-4438-99ca-76392e383d79",
   "metadata": {},
   "outputs": [],
   "source": [
    "class CareerWorkerProblem_beforechipwar:\n",
    "    def __init__(self,\n",
    "                 B=5.0,          # Upper bound\n",
    "                 β=0.95,         # Discount factor\n",
    "                 grid_size=50,   # Grid size\n",
    "                 F_a=10,\n",
    "                 F_b=10,\n",
    "                 G_a=10,\n",
    "                 G_b=10):\n",
    "        self.β, self.grid_size, self.B = β, grid_size, B\n",
    "\n",
    "        self.θ = np.linspace(0, B, grid_size)     # Set of θ values\n",
    "        self.ϵ = np.linspace(0, B, grid_size)     # Set of ϵ values\n",
    "\n",
    "        self.F_probs = BetaBinomial(grid_size - 1, F_a, F_b).pdf()\n",
    "        self.G_probs = BetaBinomial(grid_size - 1, G_a, G_b).pdf()\n",
    "        self.F_mean = np.sum(self.θ * self.F_probs)\n",
    "        self.G_mean = np.sum(self.ϵ * self.G_probs)\n",
    "\n",
    "        # Store these parameters for str and repr methods\n",
    "        self._F_a, self._F_b = F_a, F_b\n",
    "        self._G_a, self._G_b = G_a, G_b"
   ]
  },
  {
   "cell_type": "code",
   "execution_count": 6,
   "id": "3aec1b48-7701-4b22-b451-2818484ac937",
   "metadata": {},
   "outputs": [],
   "source": [
    "class CareerWorkerProblem_afterchipwar:\n",
    "\n",
    "    def __init__(self,\n",
    "                 B=5.0,          # Upper bound\n",
    "                 β=0.95,         # Discount factor\n",
    "                 grid_size=50,   # Grid size\n",
    "                 F_a=0.5,\n",
    "                 F_b=0.5,\n",
    "                 G_a=0.5,\n",
    "                 G_b=0.5):\n",
    "\n",
    "        self.β, self.grid_size, self.B = β, grid_size, B\n",
    "\n",
    "        self.θ = np.linspace(0, B, grid_size)     # Set of θ values\n",
    "        self.ϵ = np.linspace(0, B, grid_size)     # Set of ϵ values\n",
    "\n",
    "        self.F_probs = BetaBinomial(grid_size - 1, F_a, F_b).pdf()\n",
    "        self.G_probs = BetaBinomial(grid_size - 1, G_a, G_b).pdf()\n",
    "        self.F_mean = np.sum(self.θ * self.F_probs)\n",
    "        self.G_mean = np.sum(self.ϵ * self.G_probs)\n",
    "\n",
    "        # Store these parameters for str and repr methods\n",
    "        self._F_a, self._F_b = F_a, F_b\n",
    "        self._G_a, self._G_b = G_a, G_b"
   ]
  },
  {
   "cell_type": "code",
   "execution_count": 7,
   "id": "5eb78876-f8f7-48d8-ac23-04f6fb8f88e4",
   "metadata": {},
   "outputs": [],
   "source": [
    "def operator_factory(cw, parallel_flag=True):\n",
    "\n",
    "    \"\"\"\n",
    "    Returns jitted versions of the Bellman operator and the\n",
    "    greedy policy function\n",
    "\n",
    "    cw is an instance of ``CareerWorkerProblem``\n",
    "    \"\"\"\n",
    "\n",
    "    θ, ϵ, β = cw.θ, cw.ϵ, cw.β\n",
    "    F_probs, G_probs = cw.F_probs, cw.G_probs\n",
    "    F_mean, G_mean = cw.F_mean, cw.G_mean\n",
    "\n",
    "    @njit(parallel=parallel_flag)\n",
    "    def T(v):\n",
    "        \"The Bellman operator\"\n",
    "\n",
    "        v_new = np.empty_like(v)\n",
    "\n",
    "        for i in prange(len(v)):\n",
    "            for j in prange(len(v)):\n",
    "                v1 = θ[i] + ϵ[j] + β * v[i, j]                    # Stay put\n",
    "                v2 = θ[i] + G_mean + β * v[i, :] @ G_probs        # New job\n",
    "                v3 = G_mean + F_mean + β * F_probs @ v @ G_probs  # New life\n",
    "                v_new[i, j] = max(v1, v2, v3)\n",
    "\n",
    "        return v_new\n",
    "\n",
    "    @njit\n",
    "    def get_greedy(v):\n",
    "        \"Computes the v-greedy policy\"\n",
    "\n",
    "        σ = np.empty(v.shape)\n",
    "\n",
    "        for i in range(len(v)):\n",
    "            for j in range(len(v)):\n",
    "                v1 = θ[i] + ϵ[j] + β * v[i, j]\n",
    "                v2 = θ[i] + G_mean + β * v[i, :] @ G_probs\n",
    "                v3 = G_mean + F_mean + β * F_probs @ v @ G_probs\n",
    "                if v1 > max(v2, v3):\n",
    "                    action = 1\n",
    "                elif v2 > max(v1, v3):\n",
    "                    action = 2\n",
    "                else:\n",
    "                    action = 3\n",
    "                σ[i, j] = action\n",
    "\n",
    "        return σ\n",
    "\n",
    "    return T, get_greedy"
   ]
  },
  {
   "cell_type": "code",
   "execution_count": 8,
   "id": "bd0a3319-c1bb-49b8-aeea-3d266a0917c7",
   "metadata": {},
   "outputs": [],
   "source": [
    "def solve_model(cw,\n",
    "                use_parallel=True,\n",
    "                tol=1e-4,\n",
    "                max_iter=1000,\n",
    "                verbose=True,\n",
    "                print_skip=25):\n",
    "\n",
    "    T, _ = operator_factory(cw, parallel_flag=use_parallel)\n",
    "\n",
    "    # Set up loop\n",
    "    v = np.full((cw.grid_size, cw.grid_size), 100.)  # Initial guess\n",
    "    i = 0\n",
    "    error = tol + 1\n",
    "\n",
    "    while i < max_iter and error > tol:\n",
    "        v_new = T(v)\n",
    "        error = np.max(np.abs(v - v_new))\n",
    "        i += 1\n",
    "        if verbose and i % print_skip == 0:\n",
    "            print(f\"Error at iteration {i} is {error}.\")\n",
    "        v = v_new\n",
    "\n",
    "    if error > tol:\n",
    "        print(\"Failed to converge!\")\n",
    "\n",
    "    elif verbose:\n",
    "        print(f\"\\nConverged in {i} iterations.\")\n",
    "\n",
    "    return v_new"
   ]
  },
  {
   "cell_type": "code",
   "execution_count": null,
   "id": "2aabf4cb-f8d4-484a-bb29-fa3664311bb5",
   "metadata": {},
   "outputs": [],
   "source": []
  },
  {
   "cell_type": "code",
   "execution_count": 17,
   "id": "04f27f4e-4b77-4515-88da-1f55b7165d9e",
   "metadata": {},
   "outputs": [
    {
     "name": "stdout",
     "output_type": "stream",
     "text": [
      "Plot saved to Normal.png\n"
     ]
    },
    {
     "data": {
      "image/png": "[encoded data removed]",
      "text/plain": [
       "<Figure size 432x432 with 1 Axes>"
      ]
     },
     "metadata": {
      "needs_background": "light"
     },
     "output_type": "display_data"
    }
   ],
   "source": [
    "cw = CareerWorkerProblem_beforechipwar()\n",
    "T, get_greedy = operator_factory(cw)\n",
    "v_star = solve_model(cw, verbose=False)\n",
    "greedy_star = get_greedy(v_star)\n",
    "\n",
    "fig, ax = plt.subplots(figsize=(6, 6))\n",
    "tg, eg = np.meshgrid(cw.θ, cw.ϵ)\n",
    "lvls = (0.5, 1.5, 2.5, 3.5)\n",
    "ax.contourf(tg, eg, greedy_star.T, levels=lvls, cmap=cm.Pastel1, alpha=0.5)\n",
    "ax.contour(tg, eg, greedy_star.T, colors='k', levels=lvls, linewidths=1)\n",
    "ax.set(xlabel='θ', ylabel='ϵ')\n",
    "ax.text(1, 2.5, 'New Career', fontsize=14)\n",
    "ax.text(4, 0.5, 'Other Chip Man. Job', fontsize=14, rotation='vertical')\n",
    "ax.text(3, 4, 'Chip Man.', fontsize=14)\n",
    "#plt.show()\n",
    "\n",
    "\n",
    "# Specify the filename and path where the plot will be saved\n",
    "filename = \"Normal.png\"\n",
    "# Save the figure to a PNG file. You can adjust the dpi for higher resolution.\n",
    "plt.savefig(filename, dpi=300)\n",
    "# Print a message to confirm the plot has been saved\n",
    "print(f\"Plot saved to {filename}\")"
   ]
  },
  {
   "cell_type": "code",
   "execution_count": 19,
   "id": "3ba8c301-22bb-4cf8-b6dc-2b51a58352a9",
   "metadata": {},
   "outputs": [
    {
     "name": "stdout",
     "output_type": "stream",
     "text": [
      "Plot saved to HighUncertainty.png\n"
     ]
    },
    {
     "data": {
      "image/png": "[encoded data removed]",
      "text/plain": [
       "<Figure size 432x432 with 1 Axes>"
      ]
     },
     "metadata": {
      "needs_background": "light"
     },
     "output_type": "display_data"
    }
   ],
   "source": [
    "cw = CareerWorkerProblem_afterchipwar()\n",
    "T, get_greedy = operator_factory(cw)\n",
    "v_star = solve_model(cw, verbose=False)\n",
    "greedy_star = get_greedy(v_star)\n",
    "\n",
    "fig, ax = plt.subplots(figsize=(6, 6))\n",
    "tg, eg = np.meshgrid(cw.θ, cw.ϵ)\n",
    "lvls = (0.5, 1.5, 2.5, 3.5)\n",
    "ax.contourf(tg, eg, greedy_star.T, levels=lvls, cmap=cm.Pastel1, alpha=0.5)\n",
    "ax.contour(tg, eg, greedy_star.T, colors='k', levels=lvls, linewidths=2)\n",
    "ax.set(xlabel='θ', ylabel='ϵ')\n",
    "ax.text(1.5, 2.5, 'New Career', fontsize=14)\n",
    "ax.text(4.5, 1, 'Other Chip Man. Job', fontsize=14, rotation='vertical')\n",
    "ax.text(3.9, 4.75, 'Chip Man.', fontsize=14)\n",
    "#plt.show()\n",
    "\n",
    "\n",
    "# Specify the filename and path where the plot will be saved\n",
    "filename = \"HighUncertainty.png\"\n",
    "# Save the figure to a PNG file. You can adjust the dpi for higher resolution.\n",
    "plt.savefig(filename, dpi=300)\n",
    "# Print a message to confirm the plot has been saved\n",
    "print(f\"Plot saved to {filename}\")\n",
    "\n"
   ]
  },
  {
   "cell_type": "code",
   "execution_count": null,
   "id": "093b4056-a4d4-4e86-a19d-62abcfb6d575",
   "metadata": {},
   "outputs": [],
   "source": []
  },
  {
   "cell_type": "code",
   "execution_count": null,
   "id": "491eaa9f-a168-44bb-8422-c98e7f61909b",
   "metadata": {},
   "outputs": [],
   "source": []
  },
  {
   "cell_type": "code",
   "execution_count": null,
   "id": "5bdb674a-14bc-452b-89cc-28955a98a032",
   "metadata": {},
   "outputs": [],
   "source": []
  },
  {
   "cell_type": "code",
   "execution_count": null,
   "id": "830389f9-6dd4-4b34-944c-fde4755a8cbf",
   "metadata": {},
   "outputs": [],
   "source": []
  },
  {
   "cell_type": "code",
   "execution_count": null,
   "id": "26e95e71-aa23-4094-b5b2-b91955119d79",
   "metadata": {},
   "outputs": [],
   "source": []
  }
 ],
 "metadata": {
  "kernelspec": {
   "display_name": "Python 3 (ipykernel)",
   "language": "python",
   "name": "python3"
  },
  "language_info": {
   "codemirror_mode": {
    "name": "ipython",
    "version": 3
   },
   "file_extension": ".py",
   "mimetype": "text/x-python",
   "name": "python",
   "nbconvert_exporter": "python",
   "pygments_lexer": "ipython3",
   "version": "3.9.7"
  }
 },
 "nbformat": 4,
 "nbformat_minor": 5
}
